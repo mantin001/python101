{
  "cells": [
    {
      "cell_type": "markdown",
      "metadata": {
        "id": "RnWf10QeBVGo"
      },
      "source": [
        "*SQL (Structured Query Language)* es un lenguaje estándar diseñado para interactuar con bases de datos relacionales. Permite realizar diversas operaciones como la **creación, lectura, actualización y eliminación de datos** (conocido como CRUD: *Create, Read, Update, Delete*).\n",
        "En bases de datos relacionales, los datos se organizan en tablas compuestas por filas (registros) y columnas (campos).\n",
        "\n",
        "\n",
        "**Comandos principales**\n",
        "\n",
        "\n",
        "1.   SELECT: Recuperar datos de una o más tablas\n",
        "2.   INSERT: Agregar nuevas filas\n",
        "3.   UPDATE: Modificar datos existentes\n",
        "4.   DELETE: Eliminar filas de una tabla\n",
        "\n",
        "**Transacciones**\n",
        "Son un conjunto de operaciones SQL que se ejecutan como una unidad. Permiten mantener la integridad de los datos.\n"
      ]
    },
    {
      "cell_type": "markdown",
      "metadata": {
        "id": "V9FGEArlCshN"
      },
      "source": [
        "##Biblioteca SQLite3\n"
      ]
    },
    {
      "cell_type": "markdown",
      "metadata": {
        "id": "LoQWDvVQCyA6"
      },
      "source": [
        "La biblioteca *sqlite3* incluida en Python permite *interactuar con bases de datos SQLite,* una solución liviana y de alto rendimiento que no requiere un servidor externo. La librería permite *realizar operaciones* como crear tablas, ejecutar consultas SQL y administrar *transacciones directamente* desde Python.\n",
        "\n",
        "*NOTA:* En SQL, los** nombres de columnas** no son sensibles a *mayúsculas/minúsculas* por defecto (dependiendo del sistema de bases de datos). Sin embargo, en Python los nombres de las variables y atributos son sensibles a mayúsculas y minúsculas. Hay que tener cuidado con las mayúsculas, minúsculas, para nombres clases etc."
      ]
    },
    {
      "cell_type": "markdown",
      "metadata": {
        "id": "EZ7igVEDPHgg"
      },
      "source": [
        "### Explicamos el programa aqui\n",
        "1. Subimos los archivos sqlite (la base de datos) y tenemos que conocer como se llama la tabla. Subimos el archivo de las funciones (.py)\n",
        "2. Definimos el objeto Disco y definimos las variables\n",
        "3. Conectamos con la base de datos y con las funciones\n",
        "4. Ejecutamos la función principal. La función principal se retroalimenta con las funciones definidas en el archivo py externo que hemos subido.\n",
        "Se seleccionan las funciones gracias a la función principal (input)-"
      ]
    },
    {
      "cell_type": "code",
      "execution_count": 5,
      "metadata": {
        "id": "7m5JGWa6PAUi"
      },
      "outputs": [],
      "source": [
        "#Paso 0. Subir los archivos \"mis_funciones.py\" & \"sqlite_disco.db\"\n",
        "#Paso 1: Definir clases para modelar las tablas de la base de datos\n",
        "class Disco:\n",
        "    def __init__(self, ID, NAME, DURATION, AUTHOR):\n",
        "        self.ID = ID\n",
        "        self.NAME = NAME  # Cambié 'Name' a 'NAME'\n",
        "        self.DURATION = DURATION  # Cambié 'Duration' a 'DURATION'\n",
        "        self.AUTHOR = AUTHOR  # Cambié 'Author' a 'AUTHOR'"
      ]
    },
    {
      "cell_type": "code",
      "execution_count": 6,
      "metadata": {
        "colab": {
          "base_uri": "https://localhost:8080/"
        },
        "id": "tcVuXSVGECUN",
        "outputId": "7c4d170b-c3f6-46c7-8845-0d472d52d539"
      },
      "outputs": [
        {
          "output_type": "stream",
          "name": "stdout",
          "text": [
            "La base de datos 'sqlite_disco.db' está correctamente cargada.\n"
          ]
        }
      ],
      "source": [
        "# Paso 2: Importar la biblioteca\n",
        "import sqlite3\n",
        "import time\n",
        "from mis_funciones import Disco\n",
        "\n",
        "# Paso 3: Conectar con la base de datos SQLite (lo llamaos connection?)\n",
        "connection = sqlite3.connect(\"sqlite_disco.db\")  # Especificar la base de datos y conectar. #Conviene cuando le damos a conectar, escribir la desconexión (paso 8)\n",
        "cursor = connection.cursor()\n",
        "\n",
        "##################Verificación intermedia\n",
        "try:\n",
        "    conn = sqlite3.connect('sqlite_disco.db')  # Verifica la conexión a la base de datos\n",
        "    print(\"La base de datos 'sqlite_disco.db' está correctamente cargada.\")\n",
        "    conn.close()  # Cierra la conexión después de la comprobación\n",
        "except sqlite3.Error as e:\n",
        "    print(\"Error: No está bien ubicada la base de datos 'sqlite_disco.db' o hubo un problema al conectarse.\")\n",
        "\n",
        "# Paso 4: Realizar operaciones  (Consultas SQL) En este caso que me devuelva todo lo que está en la tabla)\n",
        "#Queremos que nos lea toda la tabla, por eso hacemos el SELECT de la tabla ENTERA.\n",
        "sql_select = \"SELECT * FROM Disco\"\n",
        "cursor.execute(sql_select) #Después de cada petición sql, después lo ejecutamos.\n",
        "filas = cursor.fetchall()  # Recuperar todas las filas. Lo tiens que llamar, aunque lo lea. ES NECESARIO\n",
        "\n",
        "# Paso 5: Convertir filas en objetos para trabajar en Python\n",
        "demos = [Disco(*fila) for fila in filas]  # Convertir filas a objetos Disco\n",
        "# Paso 6: Cerrar la conexión (ya podemos trabajar con los objetos)\n",
        "connection.close()\n",
        "\n",
        "\n",
        "# Paso 6: Trabajar con los objetos (Ejemplo: Imprimir información)\n",
        "#for demo in demos:\n",
        "    #print(f\"ID: {demo.ID}, Name: {demo.NAME}, Duration: {demo.DURATION}, Author: {demo.AUTHOR}\")\n",
        "\n"
      ]
    },
    {
      "cell_type": "code",
      "execution_count": 7,
      "metadata": {
        "id": "7XBUhpc_L6l4"
      },
      "outputs": [],
      "source": [
        "from mis_funciones import *  # Importar todas las funciones"
      ]
    },
    {
      "cell_type": "code",
      "execution_count": 8,
      "metadata": {
        "colab": {
          "base_uri": "https://localhost:8080/"
        },
        "id": "M_Pr-DheS-_1",
        "outputId": "d5896b67-71d2-4c92-aa45-7f0f23c77393"
      },
      "outputs": [
        {
          "output_type": "stream",
          "name": "stdout",
          "text": [
            "El archivo 'mis_funciones.py' está correctamente cargado.\n"
          ]
        }
      ],
      "source": [
        "############# paso 6. Verificamos si el archivo mis_funciones.py está correctamente importado\n",
        "try:\n",
        "    import mis_funciones\n",
        "    print(\"El archivo 'mis_funciones.py' está correctamente cargado.\")\n",
        "except ImportError:\n",
        "    print(\"Error: 'mis_funciones.py' no está bien ubicado o no se pudo cargar.\")\n"
      ]
    },
    {
      "cell_type": "code",
      "execution_count": null,
      "metadata": {
        "colab": {
          "background_save": true,
          "base_uri": "https://localhost:8080/"
        },
        "id": "9k2SLeK0RJIf",
        "outputId": "73457a81-f95b-424e-d8aa-e3bd24b271f7"
      },
      "outputs": [
        {
          "name": "stdout",
          "output_type": "stream",
          "text": [
            "\n",
            "Menú de opciones:\n",
            "1. Leer la carátula del disco\n",
            "2. Escuchar todo el disco\n",
            "3. Añadir una canción\n",
            "4. Eliminar una canción\n",
            "5. Consultar el autor de una canción\n",
            "6. Reproducir una canción\n",
            "7. Salir\n",
            "Consulta el autor de una canción\n",
            "No se encontró ninguna canción con ID 3.\n",
            "\n",
            "Menú de opciones:\n",
            "1. Leer la carátula del disco\n",
            "2. Escuchar todo el disco\n",
            "3. Añadir una canción\n",
            "4. Eliminar una canción\n",
            "5. Consultar el autor de una canción\n",
            "6. Reproducir una canción\n",
            "7. Salir\n",
            "\n",
            "Menú de opciones:\n",
            "1. Leer la carátula del disco\n",
            "2. Escuchar todo el disco\n",
            "3. Añadir una canción\n",
            "4. Eliminar una canción\n",
            "5. Consultar el autor de una canción\n",
            "6. Reproducir una canción\n",
            "7. Salir\n"
          ]
        }
      ],
      "source": [
        "###############7. Código principal con el menú################\n",
        "if __name__ == \"__main__\":\n",
        "    print(\"Bienvenido. Estás a punto de escuchar el nuevo lanzamiento de Ben Howard\")\n",
        "\n",
        "    while True:\n",
        "        print(\"\\nMenú:\")\n",
        "        print(\"1. Leer toda la carátula\")\n",
        "        print(\"2. Escuchar todo el disco\")\n",
        "        print(\"3. Escuchar una canción\")\n",
        "        print(\"4. Consultar el autor de la canción\")\n",
        "        print(\"5. Añadir una canción\")\n",
        "        print(\"6. Eliminar una canción\")\n",
        "        print(\"7. Salir\")\n",
        "\n",
        "        seleccion = int(input(\"Selecciona una opción: \"))\n",
        "\n",
        "        if seleccion == 1:\n",
        "            caratula(demos)  # Aquí va el código para ver la carátula del disco\n",
        "\n",
        "        elif seleccion == 2:\n",
        "            escuchar(demos)  # Aquí va el código para escuchar todo el disco\n",
        "\n",
        "        elif seleccion == 3:\n",
        "            reproducir_cancion(demos)  # Aquí va el código para escuchar una canción\n",
        "\n",
        "        elif seleccion == 4:\n",
        "            consultar_autor(demos)  # Aquí va el código para consultar el autor de la canción\n",
        "\n",
        "        elif seleccion == 5:\n",
        "            añadir_cancion(demos)  # Aquí va el código para añadir una canción\n",
        "\n",
        "        elif seleccion == 6:\n",
        "            eliminar_cancion(demos)  # Aquí va el código para eliminar la canción\n",
        "\n",
        "        elif seleccion == 7:\n",
        "            print(\"¡Hasta luego!\")\n",
        "            break  # Salir del bucle y terminar el programa\n",
        "\n",
        "        else:\n",
        "            print(\"Opción no válida, por favor selecciona una opción del 1 al 7.\")"
      ]
    }
  ],
  "metadata": {
    "colab": {
      "provenance": []
    },
    "kernelspec": {
      "display_name": "Python 3",
      "name": "python3"
    },
    "language_info": {
      "name": "python"
    }
  },
  "nbformat": 4,
  "nbformat_minor": 0
}