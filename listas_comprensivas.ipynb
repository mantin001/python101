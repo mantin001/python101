{
  "nbformat": 4,
  "nbformat_minor": 0,
  "metadata": {
    "colab": {
      "provenance": []
    },
    "kernelspec": {
      "name": "python3",
      "display_name": "Python 3"
    },
    "language_info": {
      "name": "python"
    }
  },
  "cells": [
    {
      "cell_type": "markdown",
      "source": [
        "## ejercicios con las listas complensivas\n"
      ],
      "metadata": {
        "id": "UvJoFt-RGvum"
      }
    },
    {
      "cell_type": "markdown",
      "source": [
        "##Estructura básica de las listas comprensivas:\n",
        "\n",
        "*nueva_lista* = [expresión **for** elemento  **in**  iterable **if ** condición]\n",
        "\n",
        "**Expresión:** Qué valor se incluye en la nueva lista (puede depender del elemento).\n",
        "**Elemento:** Cada elemento del iterable original (por ejemplo, un número de una lista).\n",
        "**Condición** (opcional): Filtra los elementos; solo se procesan los que cumplen la condición.\n",
        "\n",
        "\n",
        "##Usar condicionales dentro de listas comprensivas:\n",
        "\n",
        "Cuando necesitas evaluar una condición para decidir el contenido de la nueva lista, puedes usar un condicional ternario:\n",
        "\n",
        "*nueva_lista* = [resultado_si_verdadero **if** condición **else **resultado_si_falso **for** elemento in iterable]\n",
        "\n",
        "###Importante:\n",
        "\n",
        "**La lista original no se transforma.** La lista comprensiva genera una nueva lista basada en cómo procesas los elementos originales.\n",
        "**Siempre debe haber algo que se \"incluya\" en la nueva lista**; no se usan directamente if o else sin una expresión.\n"
      ],
      "metadata": {
        "id": "44n0xNEIKYpf"
      }
    },
    {
      "cell_type": "code",
      "execution_count": null,
      "metadata": {
        "colab": {
          "base_uri": "https://localhost:8080/"
        },
        "id": "KG09c43QGpN8",
        "outputId": "57c1f61e-fef8-47f7-ea23-484c3e7440b8"
      },
      "outputs": [
        {
          "output_type": "stream",
          "name": "stdout",
          "text": [
            "[3, 54, 4, 99]\n"
          ]
        }
      ],
      "source": [
        "numeros = [3, 54, -12, 4, -67, 99, -120]\n",
        "lista_positiva = [num for num in numeros if num > 0]\n",
        "print(lista_positiva)\n",
        "\n",
        "#a la derecha de la lista, no hay una condición como tal, en la estructura\n",
        "#la condicion de la presentación (coger) es que sea par : %2==0\n",
        "\n"
      ]
    },
    {
      "cell_type": "code",
      "source": [
        "numeros = [3, 54, -12, 4, -67, 99, -120]\n",
        "\"\"\"\n",
        "\"par\" if num %2==0 else \"impar\" RESULTADO A MOSTRAR, IZQUIERDA\n",
        "for num in numeros ES EL BUCLE\n",
        "NO HAY CONDICION por que no se está seleccionando ningun elemento ni excluyendo\n",
        "Lista de origen: numeros contiene una serie de enteros.\n",
        "Estructura de la lista comprensiva:\n",
        "[\"par\" if num % 2 == 0 else \"impar\"]: Evalúa cada número:\n",
        "Si num % 2 == 0 es verdadero, agrega \"par\".\n",
        "Si es falso, agrega \"impar\".\n",
        "for num in numeros: Itera sobre cada elemento de la lista numeros.\n",
        "\"\"\"\n",
        "nueva_lista = [\"par\" if num % 2 == 0 else \"impar\" for num in numeros]\n",
        "print(nueva_lista)\n",
        "\n",
        "\n"
      ],
      "metadata": {
        "colab": {
          "base_uri": "https://localhost:8080/"
        },
        "id": "0jfxk9h-Hn4H",
        "outputId": "eeed9756-334c-4e9b-8229-c55a18db0a38"
      },
      "execution_count": null,
      "outputs": [
        {
          "output_type": "stream",
          "name": "stdout",
          "text": [
            "['impar', 'par', 'par', 'par', 'impar', 'impar', 'par']\n"
          ]
        }
      ]
    },
    {
      "cell_type": "code",
      "source": [
        "notas = {'Alice':85, 'Bob':70, 'Charlie':95,\"Diana\":45}\n",
        "n= {a:k for a, k in notas.items() if k>=50}"
      ],
      "metadata": {
        "id": "P7KhCo_tMb27"
      },
      "execution_count": null,
      "outputs": []
    },
    {
      "cell_type": "markdown",
      "source": [
        "\n",
        "\n",
        "**Sistema_Nominas** es una clase\n",
        "**Empleado** es una clase\n",
        "considera que;\n",
        "-empleado, atributos: *nombre, salario*\n",
        "-métodos: **calcular_salario()** con un incremento del 10% es decir, su valor 1.1\n",
        "\n",
        "**programador,** atributos:*lenguaje de programación*\n",
        "A considerar:\n",
        "otro tipo de empleado; analista, scrum, master, product owner"
      ],
      "metadata": {
        "id": "5y6FK-rrNTgx"
      }
    },
    {
      "cell_type": "code",
      "source": [
        "class Empleado:\n",
        "    def __init__(self, nombre, salario):\n",
        "        self.nombre = nombre\n",
        "        self.salario = salario\n",
        "\n",
        "\n",
        "class Programador(Empleado):\n",
        "    def __init__(self, nombre, salario, lenguaje_programacion):\n",
        "        super().__init__(nombre, salario)\n",
        "        self.lenguaje_programacion = lenguaje_programacion\n",
        "\n",
        "    def calcular_nomina(self) -> float:\n",
        "        return self.salario * 1.1\n",
        "\n",
        "\n",
        "class Analista(Empleado):\n",
        "    def __init__(self, nombre, salario):\n",
        "        super().__init__(nombre, salario)\n",
        "\n",
        "    def calcular_nomina(self) -> float:\n",
        "        return self.salario * 1.05\n",
        "\n",
        "\n",
        "class Empleados: #####esto engloba los diferentes empleados (programadores y analistas)\n",
        "    def __init__(self, lista_empleados):\n",
        "        self.empleados = lista_empleados  # llamamos a la lista \"lista_empleados\" y lo guardamos en empleados dentro de Empleados\n",
        "\n",
        "    def agregar_empleado(self, empleado):\n",
        "        self.empleados.append(empleado)  # ahora llama a empleados (lista_empleados y los va agregando)\n",
        "\n",
        "####para poder instanciar\n",
        "class Sistema_Nominas:\n",
        "    def calcular_nominas(self, empleados):\n",
        "        print('Calculando nóminas')\n",
        "        print('====================')\n",
        "\n",
        "        for empleado in empleados:\n",
        "            if isinstance(empleado, Programador):  # Considerar si es programador, tiene un atributo de más (lenguaje_programacion)\n",
        "                print(f'Nómina para: {empleado.nombre} - Lenguaje: {empleado.lenguaje_programacion}')\n",
        "            else:\n",
        "                print(f'Nómina para: {empleado.nombre}')\n",
        "            print(f' - Total: {empleado.calcular_nomina()}')\n",
        "            print('')\n"
      ],
      "metadata": {
        "id": "i6SqvVH2PtxZ"
      },
      "execution_count": null,
      "outputs": []
    },
    {
      "cell_type": "code",
      "source": [
        "# Crear empleados y agregar a la lista\n",
        "lista_empleados = []\n",
        "\n",
        "# Crear empleados específicos\n",
        "jon = Programador(\"Jon\", 45_000, \"Python\")\n",
        "maria = Programador(\"Maria\", 35_000, \"Java\")\n",
        "leo = Programador(\"Leo\", 32_000, \"HTML\")\n",
        "mireia = Analista(\"Mireia\", 30_000)\n",
        "maider = Analista(\"Maider\", 33_000)\n",
        "\n",
        "# Agregar empleados a la lista\n",
        "lista_empleados.append(jon)\n",
        "lista_empleados.append(maria)\n",
        "lista_empleados.append(leo)\n",
        "lista_empleados.append(mireia)\n",
        "lista_empleados.append(maider)\n",
        "\n",
        "# Crear instancia de Empleados (qque viene de lista_empleados)\n",
        "empleados_empresa = Empleados(lista_empleados)\n",
        "\n",
        "# Sistema de nóminas\n",
        "sistema_nominas = Sistema_Nominas()\n",
        "sistema_nominas.calcular_nominas(empleados_empresa.empleados) ###llama al método calcular_nominas que es lo que de devuelve, para cada empleado (lista de empleados)"
      ],
      "metadata": {
        "colab": {
          "base_uri": "https://localhost:8080/"
        },
        "id": "ZjkcvLYAdXSx",
        "outputId": "ebba782a-bfe2-4aa5-af09-4bc76b370bf1"
      },
      "execution_count": null,
      "outputs": [
        {
          "output_type": "stream",
          "name": "stdout",
          "text": [
            "Calculando nóminas\n",
            "====================\n",
            "Nómina para: Jon - Lenguaje: Python\n",
            " - Total: 49500.00000000001\n",
            "\n",
            "Nómina para: Maria - Lenguaje: Java\n",
            " - Total: 38500.0\n",
            "\n",
            "Nómina para: Leo - Lenguaje: HTML\n",
            " - Total: 35200.0\n",
            "\n",
            "Nómina para: Mireia\n",
            " - Total: 31500.0\n",
            "\n",
            "Nómina para: Maider\n",
            " - Total: 34650.0\n",
            "\n"
          ]
        }
      ]
    },
    {
      "cell_type": "code",
      "source": [],
      "metadata": {
        "id": "pMsPjhCRNa_X"
      },
      "execution_count": null,
      "outputs": []
    },
    {
      "cell_type": "code",
      "source": [],
      "metadata": {
        "id": "WCaPGNB9XodG"
      },
      "execution_count": null,
      "outputs": []
    }
  ]
}