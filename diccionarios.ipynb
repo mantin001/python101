{
  "nbformat": 4,
  "nbformat_minor": 0,
  "metadata": {
    "colab": {
      "provenance": []
    },
    "kernelspec": {
      "name": "python3",
      "display_name": "Python 3"
    },
    "language_info": {
      "name": "python"
    }
  },
  "cells": [
    {
      "cell_type": "markdown",
      "source": [
        "#set\n",
        "https://www.programaenpython.com/fundamentos/sets-en-python/#google_vignette"
      ],
      "metadata": {
        "id": "Nk8Mph47ecqa"
      }
    },
    {
      "cell_type": "code",
      "execution_count": null,
      "metadata": {
        "id": "DOeECZetKV5T"
      },
      "outputs": [],
      "source": []
    },
    {
      "cell_type": "code",
      "source": [
        "\"\"\"def hello(**kwargs):#puedes llamarlo como quieras, args, kw args... (key words) si le ponemos los dos asteríscos le estamos indicando que es un diccionario\n",
        "  print(type(kwargs)) #<class 'dict'>\n",
        "  print(\"Hello\")\n",
        "  print(\"Kaixo\")\n",
        "  print(\"Hallo\")\n",
        "  print(\"Hola\") \"\"\"\n",
        "\n",
        "\n",
        "#ahora lo hacemos llamando cada categoria de la biblioteca\n",
        "def hello(**kwargs):\n",
        "  print(type(kwargs))\n",
        "  if \"ing\" in kwargs:\n",
        "    print(kwargs[\"ing\"])\n",
        "  if \"esp\" in kwargs:\n",
        "    print(kwargs[\"esp\"])\n",
        "  if \"eus\" in kwargs:\n",
        "    print(kwargs[\"eus\"])\n",
        "  if \"al\" in kwargs:\n",
        "    print(kwargs[\"al\"])\n",
        "\n",
        "hello(ing=\"Hello\",esp=\"Hola\",eus=\"Kaixo\",al=\"Hallo\")\n",
        "\n",
        "\n",
        "\n"
      ],
      "metadata": {
        "colab": {
          "base_uri": "https://localhost:8080/"
        },
        "id": "1isQ7MMnKy3u",
        "outputId": "0e5edfcc-b174-4075-9d57-5c5294bf9ad8"
      },
      "execution_count": null,
      "outputs": [
        {
          "output_type": "stream",
          "name": "stdout",
          "text": [
            "<class 'dict'>\n",
            "Hello\n",
            "Hola\n",
            "Kaixo\n",
            "Hallo\n"
          ]
        }
      ]
    },
    {
      "cell_type": "code",
      "source": [
        "def bidalketa(**kwargs):\n",
        "  if \"gaia\" in kwargs:\n",
        "    print(\"Enviando correo... \\n____________________________ \\n\")\n",
        "    #aqui le estamos diciendo que si hay \"gaia\" para el correo, se envie, para confirmar que eiste el asunto.\n",
        "    print(\"Destinatario : \" + kwargs[\"hartzailea\"])\n",
        "    if \"gaia\" in kwargs:\n",
        "      print(\"Asunto: \"+ kwargs[\"gaia\"])\n",
        "    if \"body\" in kwargs:\n",
        "      print(\"Mensaje: \" + kwargs[\"body\"])\n",
        "\n",
        "#AQUI VAN LOS ARGUMENTOS PARA LA FUNCIÓN\n",
        "bidalketa(hartzailea=\"ckulhan@nazaret.eus\",\n",
        "gaia=\"Kaixo\",body=\"Kaixo, zer moduz zaude, Che?\")\n",
        "bidalketa(hartzailea=\"ckulhan@nazaret.eus\",\n",
        "gaia=\"Kaixo\",body=\"Kaixo, zer moduz zaude, Che?\")\n"
      ],
      "metadata": {
        "colab": {
          "base_uri": "https://localhost:8080/"
        },
        "id": "YZRG_u34KYU-",
        "outputId": "2b42eb35-30cc-4613-f24b-9e2be1599e0f"
      },
      "execution_count": null,
      "outputs": [
        {
          "output_type": "stream",
          "name": "stdout",
          "text": [
            "Enviando correo... \n",
            "____________________________ \n",
            "\n",
            "Destinatario : ckulhan@nazaret.eus\n",
            "Asunto: Kaixo\n",
            "Mensaje: Kaixo, zer moduz zaude, Che?\n",
            "Enviando correo... \n",
            "____________________________ \n",
            "\n",
            "Destinatario : ckulhan@nazaret.eus\n",
            "Asunto: Kaixo\n",
            "Mensaje: Kaixo, zer moduz zaude, Che?\n"
          ]
        }
      ]
    },
    {
      "cell_type": "code",
      "source": [
        "acciones={\"MSFT\":412,\"NVDA\":143,\"REP\":9}\n",
        "print(type(acciones))\n",
        "#<class 'dict'>\n",
        "#Java Script Object No??\n",
        "print(acciones[\"MSFT\"]) #Se espera que te devuelva el valor dentro de esa categoría.\n",
        "\n",
        "#vamos a hacer un bucle y vamos a imprimir las claes y los valores.\n",
        "#lo mas tipico son claves (Key) y valor (Value)\n",
        "for k,v in acciones.items():\n",
        "  print(k,v)\n",
        "\n"
      ],
      "metadata": {
        "colab": {
          "base_uri": "https://localhost:8080/"
        },
        "id": "ccgKfmfqOUtz",
        "outputId": "996295a1-fbfd-4ff0-abc4-4fc1f0e05231"
      },
      "execution_count": null,
      "outputs": [
        {
          "output_type": "stream",
          "name": "stdout",
          "text": [
            "<class 'dict'>\n",
            "412\n",
            "MSFT 412\n",
            "NVDA 143\n",
            "REP 9\n"
          ]
        }
      ]
    },
    {
      "cell_type": "code",
      "source": [
        "acciones={\"MSFT\":412,\"NVDA\":143,\"REP\":9}\n",
        "#claves y valores. Es parecido al enumerate() de las lists\n",
        "#si  solo queremos las claves  podremos usar \" .keys()\"\n",
        "\n",
        "for k,v in acciones.items():\n",
        "  print(k,v)\n",
        "print(\"Estas son las claves y los valores\")\n",
        "\n",
        "for k in acciones.keys():\n",
        "  print(k)\n",
        "print(\"estas son unicamente las claves\")\n",
        "\n",
        "for v in acciones.values():\n",
        "  print(v)\n",
        "print(\"estas son unicamente los valores\")\n",
        "\n",
        "###ahora solo queremos el valor de una clave o actualizar y añadir una:\n",
        "acciones[\"user\"]= \"Maider\"\n",
        "print(acciones[\"user\"])\n",
        "acciones.update({\"Kutxabank\":1_000,\"plan ahorro\":15_000})\n",
        "print(acciones[\"Kutxabank\"])"
      ],
      "metadata": {
        "colab": {
          "base_uri": "https://localhost:8080/"
        },
        "id": "Kn6PUjEPbbYI",
        "outputId": "fcd4ad67-2a8b-451f-f762-d9e90ce176cc"
      },
      "execution_count": null,
      "outputs": [
        {
          "output_type": "stream",
          "name": "stdout",
          "text": [
            "MSFT 412\n",
            "NVDA 143\n",
            "REP 9\n",
            "Estas son las claves y los valores\n",
            "MSFT\n",
            "NVDA\n",
            "REP\n",
            "estas son unicamente las claves\n",
            "412\n",
            "143\n",
            "9\n",
            "estas son unicamente los valores\n",
            "Maider\n",
            "1000\n"
          ]
        }
      ]
    },
    {
      "cell_type": "code",
      "source": [],
      "metadata": {
        "id": "XzwBUTLmmuk9"
      },
      "execution_count": null,
      "outputs": []
    },
    {
      "cell_type": "code",
      "source": [],
      "metadata": {
        "id": "TpMkkzXXmucG"
      },
      "execution_count": null,
      "outputs": []
    },
    {
      "cell_type": "code",
      "source": [
        "Bancos_creciendo={\"AENA.MC\":124.75, \"BBVA.MC\":6.34, \"REP\":14.22,\"SAN.MC\":3.324}\n",
        "print(Bancos_creciendo[\"BBVA.MC\"])\n",
        "Bancos_creciendo.update({\"OHLA.MC\":0.518,\"ANE.MC\":34.32,\"TEF.MC\":3.811})\n",
        "Bancos_decreciendo={\"OHLA.MC\":0.518,\"ANE.MC\":34.32,\"TEF.MC\":3.811}\n",
        "Bancos_espanoles= Bancos_creciendo |Bancos_decreciendo\n",
        "for v in Bancos_espanoles.values():\n",
        "  print(v)\n",
        "print(\"estas son los valores de los bancos que estan en bolsa\")\n",
        "#suma el total de precios?\n",
        "\n",
        "x=0 #el contador en zero\n",
        "for v in Bancos_espanoles.values():\n",
        "  x = x+v\n",
        "Bancos_espanoles.update({\"valor total\":x})\n",
        "print(\"el total de la suma es \",{Bancos_espanoles [\"valor total\"]})\n",
        "\n",
        "\"\"\"\n",
        "for k, v in Bancos_espanoles.items(): #Items son las dos cosas : k y v)\n",
        "  if k != \"SAN.MC\":\n",
        "    x\n",
        "\"\"\"\n",
        "\n",
        "for k, values in Bancos_espanoles.items():\n",
        "  print(k)\n",
        "  for i in values:\n",
        "      print(i)\n"
      ],
      "metadata": {
        "colab": {
          "base_uri": "https://localhost:8080/"
        },
        "id": "PCB1gBQBcyXu",
        "outputId": "b6d71dc0-63f7-4644-a41d-246afbc948c4"
      },
      "execution_count": null,
      "outputs": [
        {
          "output_type": "stream",
          "name": "stdout",
          "text": [
            "6.34\n",
            "124.75\n",
            "6.34\n",
            "14.22\n",
            "3.324\n",
            "0.518\n",
            "34.32\n",
            "3.811\n",
            "estas son los valores de los bancos que estan en bolsa\n",
            "el total de la suma es  {187.28300000000002}\n"
          ]
        }
      ]
    },
    {
      "cell_type": "code",
      "source": [
        "temperaturas_promedio = {\n",
        "    \"Enero\": 10,\n",
        "    \"Febrero\": 12,\n",
        "    \"Marzo\": 12,\n",
        "    \"Abril\": 10,\n",
        "    \"Mayo\": 20,\n",
        "    \"Junio\": 25,\n",
        "    \"Julio\": 28,\n",
        "    \"Agosto\": 27,\n",
        "    \"Septiembre\": 23,\n",
        "    \"Octubre\": 19,\n",
        "    \"Noviembre\": 14,\n",
        "    \"Diciembre\": 14\n",
        "}\n",
        "\n",
        "print(\"la temperatura promedio del diciembre es\",temperaturas_promedio[\"Diciembre\"])\n",
        "\n",
        "for k,v in temperaturas_promedio.items():\n",
        "    if k == \"Junio\" or k == \"Julio\" or k == \"Agosto\":\n",
        "        print(k,v)\n",
        "\n",
        "del temperaturas_promedio[\"Marzo\"]\n",
        "\n",
        "unicos = set(temperaturas_promedio.values())\n",
        "print(unicos)\n"
      ],
      "metadata": {
        "colab": {
          "base_uri": "https://localhost:8080/"
        },
        "id": "AZb_O97CXHX6",
        "outputId": "3b5a6095-7f7b-4eb0-c8f1-f8a393b44b9a"
      },
      "execution_count": null,
      "outputs": [
        {
          "output_type": "stream",
          "name": "stdout",
          "text": [
            "la temperatura promedio del diciembre es 14\n",
            "Junio 25\n",
            "Julio 28\n",
            "Agosto 27\n"
          ]
        }
      ]
    },
    {
      "cell_type": "markdown",
      "source": [
        "##EJERCICIO INPUT FLUJO\n",
        "0. Lista vacía.\n",
        "1. iNTRODUCE UN NÚMERO (INPUT)\n",
        "2. ¿Es un número? S/N (si es no,false, vuelve paso 1).\n",
        "3. Añadir a la lista\n",
        "4. Sacar la media (función) de los numeros de la lista.\n",
        "5. Mostrar la media de la tempertauda (OUTPUT)"
      ],
      "metadata": {
        "id": "AJfnHUiGbjmV"
      }
    },
    {
      "cell_type": "code",
      "source": [
        "import json\n",
        "accion = '{\"nombre\": \"Repsol\", \"precio\": 1000}'  # Sin guiones bajos\n",
        "print(json.loads(accion))\n",
        "a=json.loads(accion)\n",
        "print(type(a))\n",
        "#<class 'dict'>"
      ],
      "metadata": {
        "colab": {
          "base_uri": "https://localhost:8080/"
        },
        "id": "rn9w44oYX1I4",
        "outputId": "03840712-3ee3-4fb8-9f6b-8bb170970d9b"
      },
      "execution_count": null,
      "outputs": [
        {
          "output_type": "stream",
          "name": "stdout",
          "text": [
            "{'nombre': 'Repsol', 'precio': 1000}\n",
            "<class 'dict'>\n"
          ]
        }
      ]
    }
  ]
}