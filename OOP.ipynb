{
  "nbformat": 4,
  "nbformat_minor": 0,
  "metadata": {
    "colab": {
      "provenance": []
    },
    "kernelspec": {
      "name": "python3",
      "display_name": "Python 3"
    },
    "language_info": {
      "name": "python"
    }
  },
  "cells": [
    {
      "cell_type": "code",
      "execution_count": null,
      "metadata": {
        "id": "fmE1JdCgtuj1"
      },
      "outputs": [],
      "source": []
    },
    {
      "cell_type": "markdown",
      "source": [
        "#PROGRAMAR POR OBJETOS"
      ],
      "metadata": {
        "id": "F4UFu9Na4PlN"
      }
    },
    {
      "cell_type": "markdown",
      "source": [
        "La Programación Orientada a Objetos (OOP) organiza el código en objetos, que son representaciones de cosas del mundo real o conceptos. Cada objeto pertenece a una clase, que define un plano o plantilla. Los atributos son las propiedades o datos del objeto, mientras que los métodos son las funciones asociadas a él.\n",
        "\n",
        "Abstracción: Simplifica la complejidad al enfocarse en los detalles esenciales de un objeto, ocultando los irrelevantes.\n",
        "Encapsulamiento: Protege y restringe el acceso a los datos de un objeto mediante modificadores de acceso, garantizando la integridad de los atributos.\n",
        "El constructor (__init__) se usa para inicializar objetos y asignar valores iniciales a sus atributos."
      ],
      "metadata": {
        "id": "KkEv0ypl4SzP"
      }
    },
    {
      "cell_type": "code",
      "source": [
        "# Definimos la clase Fruta\n",
        "class Fruta:\n",
        "    # Constructor: inicializa los atributos al crear un objeto\n",
        "    def __init__(self, nombre, precio):  # El constructor tiene tres parámetros\n",
        "        self.nombre = nombre  # Atributo nombre\n",
        "        self.precio = precio  # Atributo precio\n",
        "        self.iva = 21.00\n",
        "\n",
        "# Creamos un objeto de la clase Fruta llamado kiwi, pasándole nombre y precio\n",
        "kiwi = Fruta(\"kiwi de nueva zelanda\", 5.69)\n",
        "\n",
        "# Nota: self no se pasa al instanciar porque es un parámetro automático\n",
        "# Se usa dentro de la clase para referirse al propio objeto.\n",
        "\n",
        "# Intentamos acceder a un atributo\n",
        "print(kiwi.nombre)\n",
        "kiwi.precio = 5  # Modificamos el atributo (precio, que es el valor) de kiwi\n",
        "print(kiwi.precio)  # Salida: 5\n",
        "#podemos sobre escribir\n",
        "kiwi = Fruta(\"Kiwi de Malaga\", 4.5)\n",
        "mango = Fruta(\"mango\",2.8)\n"
      ],
      "metadata": {
        "colab": {
          "base_uri": "https://localhost:8080/"
        },
        "id": "mTuEnDwP4V2C",
        "outputId": "505a8ae3-2e48-4d74-fbbd-111c19787c2f"
      },
      "execution_count": null,
      "outputs": [
        {
          "output_type": "stream",
          "name": "stdout",
          "text": [
            "kiwi de nueva zelanda\n",
            "5\n",
            "['__class__', '__delattr__', '__dict__', '__dir__', '__doc__', '__eq__', '__format__', '__ge__', '__getattribute__', '__gt__', '__hash__', '__init__', '__init_subclass__', '__le__', '__lt__', '__module__', '__ne__', '__new__', '__reduce__', '__reduce_ex__', '__repr__', '__setattr__', '__sizeof__', '__str__', '__subclasshook__', '__weakref__', 'iva', 'nombre', 'precio']\n"
          ]
        }
      ]
    },
    {
      "cell_type": "code",
      "source": [
        "print(dir(mango)) #recordamos que son clases, que le hemos pedido en otras\n",
        "#ocasiones las direcciones o también le podemos pedir help\n",
        "#los que hemos definido, vienen dentrás 'iva', 'nombre', 'precio']\n",
        "#l resto de parametros son de guión bajo, como '__new__', '__reduce__','__repr__'"
      ],
      "metadata": {
        "colab": {
          "base_uri": "https://localhost:8080/"
        },
        "id": "S9y3KSuq7_Qp",
        "outputId": "693096c7-9491-444d-96a9-351aefb51d9b"
      },
      "execution_count": null,
      "outputs": [
        {
          "output_type": "stream",
          "name": "stdout",
          "text": [
            "['__class__', '__delattr__', '__dict__', '__dir__', '__doc__', '__eq__', '__format__', '__ge__', '__getattribute__', '__gt__', '__hash__', '__init__', '__init_subclass__', '__le__', '__lt__', '__module__', '__ne__', '__new__', '__reduce__', '__reduce_ex__', '__repr__', '__setattr__', '__sizeof__', '__str__', '__subclasshook__', '__weakref__', 'iva', 'nombre', 'precio']\n"
          ]
        }
      ]
    },
    {
      "cell_type": "markdown",
      "source": [
        "##Características principales:\n",
        "Lógica del método:\n",
        "Es **un método de instancia**, ya que utiliza el parámetro *self* para **acceder a los atributos del objeto.**\n",
        "Esto permite que cada objeto use sus propios valores *(nombre, precio)* al ejecutar este método.\n",
        "\n",
        "###Uso de self:\n",
        "**¿Qué es?**: self es una referencia al objeto actual.\n",
        "**¿Por qué es necesario?**: Cuando accedemos a self.nombre o self.precio, estamos diciendo que queremos los valores de los atributos del objeto que llamó al método.\n",
        "**Cuándo usarlo:** Se usa en métodos de una clase para:\n",
        "1. Acceder o modificar atributos del objeto.\n",
        "2. Llamar a otros métodos del mismo objeto.\n",
        "\n",
        "**Contexto de la clase:**\n",
        "Cuando defines un método dentro de una clase, n**ecesitas especificar a qué objeto está vinculado.** self lo hace automáticamente, refiriéndose al objeto que llama al método.\n",
        "\n",
        "Si no usáramos self, el método no sabría de qué objeto debe obtener los atributos. Esto causaría errores o comportamientos inconsistentes."
      ],
      "metadata": {
        "id": "E-T2XzrC8wfT"
      }
    },
    {
      "cell_type": "code",
      "source": [
        "####ahora crearemos una función para que nos devuelva.\n",
        "#es importante el self\n",
        "def mostrar_fruta(self):\n",
        "  print(f\"Mi fruta es un {self.nombre} y cuesta {self.precio}\")"
      ],
      "metadata": {
        "id": "QeFgk5_G8Ce-"
      },
      "execution_count": null,
      "outputs": []
    },
    {
      "cell_type": "markdown",
      "source": [
        "Los métodos y atributos con doble subrayado al inicio (como **__atributo**) no son estrictamente privados en Python, pero indican que son \"**internos**\" o \"**protegidos**\" de una clase y deberían evitarse fuera de su contexto.\n",
        " Esto forma parte del **principio de encapsulación** en la programación orientada a objetos."
      ],
      "metadata": {
        "id": "judTrOge-CSk"
      }
    },
    {
      "cell_type": "markdown",
      "source": [
        "#Unified Modeling Lenguage - Lenguaje Modelado Unificado\n",
        "El artículo explica que un diagrama de clases en UML es una representación gráfica para diseñar sistemas orientados a objetos. Describe las clases, **atributos, métodos y relaciones** entre ellas. Los componentes clave incluyen el **nombre de la clase, sus atributos y operaciones**, además de visibilidad (+ público, - privado, # protegido).\n",
        "\n",
        " Se analizan relaciones como herencia, asociación, composición, y dependencia, entre otras. También, se explica la utilidad de diagramas según la etapa del desarrollo (conceptual, especificación o implementación). Ejemplos prácticos refuerzan cada tipo de relación.\n",
        "\n",
        "https://www.visual-paradigm.com/guide/uml-unified-modeling-language/uml-class-diagram-tutorial/#:~:text=A%20class%20diagram%20in%20the,and%20the%20relationships%20among%20objects.\n",
        "\n",
        " Los diagramas de clases en UML representan la estructura de un sistema, mostrando:\n",
        "\n",
        "1. Clases: Plantillas de objetos con atributos y métodos.\n",
        "2. Atributos: Propiedades o características de la clase.\n",
        "3. Métodos: Acciones o funciones asociadas a la clase.\n",
        "\n",
        "\n",
        "El constructor, como __init__ en Python, inicializa atributos al crear un objeto. Los métodos ejecutan acciones, como cálculos o mostrar datos."
      ],
      "metadata": {
        "id": "K9qNwGUjEwfy"
      }
    },
    {
      "cell_type": "code",
      "source": [
        "\"\"\"\n",
        "Clase Empleado: Definimos los atributos del empleado como nombre, apellido1, apellido2, salario y puesto.\n",
        "Método mostrar_empleado: Imprime todos los datos de un empleado.\n",
        "Lista Lista_empleados: Almacenamos los empleados y los mostramos con un bucle.\n",
        "\"\"\"\n",
        "class Empleado:\n",
        "    def __init__(self, nombre, apellido1, apellido2, salario, puesto):\n",
        "        self.nombre = nombre\n",
        "        self.apellido1 = apellido1\n",
        "        self.apellido2 = apellido2\n",
        "        self.salario = salario\n",
        "        self.puesto = puesto\n",
        "##separa el empleado, del puesto y del salario\n",
        "    def mostrar_empleado(self):\n",
        "        print(f\"Empleado: {self.nombre} {self.apellido1} {self.apellido2}, Puesto: {self.puesto}, Salario: {self.salario} €\")\n",
        "###esta es una función que solo nos muestra el nombre y los apellidos\n",
        "    def mostrar_nombre(self):\n",
        "        print(f\"Nombre completo: {self.nombre} {self.apellido1} {self.apellido2}\")\n",
        "\n",
        "    def calcular_paga_de_navidad(self):\n",
        "        return self.salario * 0.05\n",
        "\n",
        "# Lista para almacenar los empleados\n",
        "Lista_empleados = []\n",
        "\n",
        "# Crear empleados y agregar a la lista\n",
        "jon = Empleado(\"Jon\", \"González\", \"Múgica\", 24000, \"psicólogo\")\n",
        "Lista_empleados.append(jon)\n",
        "maria = Empleado(\"Maria\", \"Gutiérrez\", \"Álvarez\", 30000, \"reportera\")\n",
        "Lista_empleados.append(maria)\n",
        "juan = Empleado(\"Juan\", \"Ortega\", \"Ortiz\", 70000, \"CEO empresa\")\n",
        "Lista_empleados.append(juan)\n",
        "\n",
        "# Imprimir los empleados\n",
        "for empleado in Lista_empleados:\n",
        "    empleado.mostrar_empleado()\n"
      ],
      "metadata": {
        "colab": {
          "base_uri": "https://localhost:8080/"
        },
        "id": "1gmFz1bTM2ec",
        "outputId": "c3ab7fb3-cad8-44e0-8352-306b0da4e4c7"
      },
      "execution_count": null,
      "outputs": [
        {
          "output_type": "stream",
          "name": "stdout",
          "text": [
            "Empleado: Jon González Múgica, Puesto: psicólogo, Salario: 24000 €\n",
            "Empleado: Maria Gutiérrez Álvarez, Puesto: reportera, Salario: 30000 €\n",
            "Empleado: Juan Ortega Ortiz, Puesto: CEO empresa, Salario: 70000 €\n"
          ]
        }
      ]
    },
    {
      "cell_type": "markdown",
      "source": [
        "Ahora queremos que sea interactivo. Usaremos los inputs...\n",
        "Lo iremos guardando en la lista de empleados. Necesitamos saber;\n",
        "\n",
        "1. Función **agregar_empleado**: Esta función solicita los datos del nuevo empleado (nombre, apellidos, salario, puesto) y crea un nuevo objeto Empleado.\n",
        "2. Uso de input: Se usan para recolectar los datos del usuario. Esto lo haremos en varios pasos, utilizando **empleado_nuevo**\n",
        "3. Añadir a la lista: Después de crear el objeto Empleado, se agrega a la lista Lista_empleados con **append().**\n"
      ],
      "metadata": {
        "id": "Adh7rDofPbd-"
      }
    },
    {
      "cell_type": "code",
      "source": [
        "######Ahora de la entrada, iremos integrando los datos. se peude hcer de varias maneras.\n",
        "##1. Generando una variable intermedia de nuevo_empleado a la LISTA\n",
        "def agregar_empleado():\n",
        "    nombre = input(\"Introduce el nombre: \")\n",
        "    apellido1 = input(\"Introduce el primer apellido: \")\n",
        "    apellido2 = input(\"Introduce el segundo apellido: \")\n",
        "    salario = int(input(\"Introduce el salario: \"))\n",
        "    puesto = input(\"Introduce el puesto: \")\n",
        "    nuevo_empleado = Empleado(nombre, apellido1, apellido2, salario, puesto)\n",
        "    Lista_empleados.append(nuevo_empleado)\n",
        "\n",
        "##2. Generando directamente un append.\n",
        "def agregar_empleado():\n",
        "    Lista_empleados.append(Empleado(input(\"Introduce el nombre: \"), input(\"Introduce el primer apellido: \"), input(\"Introduce el segundo apellido: \"), int(input(\"Introduce el salario: \")), input(\"Introduce el puesto: \")))\n",
        "\n",
        "agregar_empleado() #llamamos a la función para AGREGAR,\n",
        "\n",
        "# # Mostrar los empleados registrados\n",
        "# for empleado in Lista_empleados:\n",
        "#     empleado.mostrar_empleado()\n"
      ],
      "metadata": {
        "id": "Y4-x9bCQPyAu"
      },
      "execution_count": null,
      "outputs": []
    },
    {
      "cell_type": "code",
      "source": [],
      "metadata": {
        "id": "QD2y9kK6RtOw"
      },
      "execution_count": null,
      "outputs": []
    },
    {
      "cell_type": "markdown",
      "source": [
        "###comparación\n",
        "El Método 1 (variable intermedia) es más detallado y flexible, lo que permite modificar el objeto antes de agregarlo a la lista, pero aumenta la longitud del código. El Método 2 (directo en append()) es más eficiente y sencillo, ideal para situaciones donde no es necesario manipular el objeto después de su creación. Sin embargo, sacrifica flexibilidad y puede dificultar la depuración debido a la falta de acceso al objeto antes de agregarlo."
      ],
      "metadata": {
        "id": "m-2Oeb2VR21y"
      }
    },
    {
      "cell_type": "markdown",
      "source": [
        "![comparacion.PNG](data:image/png;base64,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)"
      ],
      "metadata": {
        "id": "AhEY5eUyRjMi"
      }
    },
    {
      "cell_type": "code",
      "source": [],
      "metadata": {
        "id": "swqwdjxdRrWC"
      },
      "execution_count": null,
      "outputs": []
    },
    {
      "cell_type": "markdown",
      "source": [
        "##instanciar\n",
        "\n",
        "El método __eq__ permite definir cómo comparar dos objetos para determinar si son iguales, basándose en atributos específicos en lugar de la comparación predeterminada (que evalúa si son el mismo objeto en memoria). Es útil para personalizar criterios de igualdad entre instancias.\n",
        "\n",
        "\n",
        "Método __eq__: Define la lógica de igualdad entre dos objetos de la clase Libro basándose en los atributos titulo e isbn.\n",
        "Propósito: Aunque libro1 y libro2 son instancias distintas en memoria, se consideran \"iguales\" porque tienen el mismo título y ISBN. Sin el método __eq__, la comparación predeterminada entre objetos evalúa si son idénticos en memoria (False).\n",
        "Dunder methods (__eq__, __str__, etc.): Son métodos especiales que permiten personalizar el comportamiento estándar de los objetos en Python."
      ],
      "metadata": {
        "id": "kKi00nkq7b1v"
      }
    },
    {
      "cell_type": "code",
      "source": [
        "class Libro:  # Definimos la clase 'Libro' con atributos como título, autor, ISBN, y valoración.\n",
        "    def __init__(self, titulo, autor, isbn, valoracion):\n",
        "        self.titulo = titulo  # Atributo público: título del libro.\n",
        "        self.autor = autor  # Atributo público: autor del libro.\n",
        "        self.isbn = isbn  # Atributo público: ISBN único del libro.\n",
        "        self.__valoracion = valoracion  # Atributo privado: la valoración no es accesible directamente.\n",
        "\n",
        "    def __str__(self):\n",
        "        # Método especial para representar el objeto como cadena de texto al usar 'print'.\n",
        "        return f\"Libro: {self.titulo}, ISBN: {self.isbn}\"  # Formato personalizado para imprimir.\n",
        "\n",
        "    def __eq__(self, other):\n",
        "        # Método especial para comparar si dos libros son \"iguales\".\n",
        "        # Compara los atributos 'titulo' e 'isbn' entre los dos objetos.\n",
        "        return self.titulo == other.titulo and self.isbn == other.isbn\n",
        "\n",
        "# Crear dos objetos de la clase 'Libro' con los mismos atributos.\n",
        "libro1 = Libro(\"Crónica del pájaro que da cuerda al mundo\", \"Haruki Murakami\", \"9780307762702\", \"8/10\")\n",
        "libro2 = Libro(\"Crónica del pájaro que da cuerda al mundo\", \"Haruki Murakami\", \"9780307762702\", \"8/10\")\n",
        "\n",
        "# Comparación de objetos usando '__eq__'.\n",
        "print(libro1 == libro2)  # Salida: True, porque 'titulo' e 'isbn' son iguales.\n"
      ],
      "metadata": {
        "colab": {
          "base_uri": "https://localhost:8080/"
        },
        "id": "cW7BYSMM7m0L",
        "outputId": "73c9f0d9-ace8-4ac7-8c1c-66e2ddb4bc94"
      },
      "execution_count": null,
      "outputs": [
        {
          "output_type": "stream",
          "name": "stdout",
          "text": [
            "True\n"
          ]
        }
      ]
    },
    {
      "cell_type": "code",
      "source": [
        "###ejercicio musica\n",
        "\"\"\"\n",
        "El código define una clase Guitar que modela una guitarra. Tiene dos atributos: marca (marca de la guitarra) y cuerdas (número de cuerdas, por defecto 6).\n",
        "También incluye un método tocar, que simula el sonido de la guitarra imprimiendo \"glaaaaan, glaaaaan\".\n",
        "\"\"\"\n",
        "\n",
        "class Guitar:\n",
        "  def __init__(self, marca, cuerdas): #si quisieramos poner por defecto que cuerdas el valor sea 6, seria cuerdas=6\n",
        "    self.marca= marca\n",
        "    self.cuerdas = cuerdas\n",
        "  def tocar(self):\n",
        "    print(\"glaaaaan, glaaaaan\")\n",
        "\"\"\"\n",
        "Queremos evitar duplicar código al crear una subclase `ElectricGuitar` que herede de `Guitar`. Usamos el método `super()` para reutilizar el constructor de la clase padre (`Guitar`) en el hijo.\n",
        "\n",
        "# Notas del código:\n",
        "- `ElectricGuitar` es una subclase de `Guitar`.\n",
        "- El método `super().__init__()` llama al constructor de la clase padre para inicializar atributos compartidos, como `marca` y `cuerdas`.\n",
        "- Esto simplifica el código y evita repetir la lógica de inicialización.\n",
        "\"\"\"\n",
        "\n",
        "class ElectricGuitar(Guitar):\n",
        "    def __init__(self, marca, cuerdas,color): #aqui tengo que indicarle el argumento añadido\n",
        "        super().__init__(marca, cuerdas)\n",
        "        self.color = color\n",
        "          # Llama al constructor de Guitar con los mismos parámetros.  El código usa herencia para que ElectricGuitar (hijo)\n",
        "        #reutilice el constructor de Guitar (padre) con super().\n",
        "        #Así, evita duplicar lógica y hereda atributos como marca y cuerdas.\n",
        "\n",
        "\n",
        "\n"
      ],
      "metadata": {
        "colab": {
          "base_uri": "https://localhost:8080/"
        },
        "id": "TgOWVsi_7zYS",
        "outputId": "7e96970c-43b2-4ea2-8a30-6396593f0511"
      },
      "execution_count": null,
      "outputs": [
        {
          "output_type": "stream",
          "name": "stdout",
          "text": [
            "glaaaaan, glaaaaan\n",
            "Fender\n",
            "azul eléctrico\n",
            "glaaaaan, glaaaaan\n"
          ]
        }
      ]
    },
    {
      "cell_type": "markdown",
      "source": [
        "##Herencias y super clases\n",
        "Hemos definido una clase llamada Guitarra, que incluye un método __init__ para inicializar los atributos básicos como marca y cuerdas. Estos atributos se asignan con self, permitiéndonos acceder a ellos como propiedades del objeto.\n",
        "\n",
        "La clase Guitarra funciona como clase padre. De esta clase derivamos otras, como ElectricGuitar y Bass, usando herencia. Esto nos permite reutilizar el código de la clase padre y añadir atributos específicos:\n",
        "\n",
        "super().__init__: Reutiliza el constructor de la clase padre para inicializar atributos comunes como marca y cuerdas.\n",
        "Atributos específicos:\n",
        "ElectricGuitar tiene color.\n",
        "Bass tiene strap.\n",
        "Uso del método heredado: Ambas subclases pueden usar el método tocar() definido en la clase padre.\n"
      ],
      "metadata": {
        "id": "37gRSWrXCfjk"
      }
    },
    {
      "cell_type": "code",
      "source": [],
      "metadata": {
        "id": "IDvLA-jcDRjb"
      },
      "execution_count": null,
      "outputs": []
    },
    {
      "cell_type": "code",
      "source": [
        "class ElectricGuitar(Guitar):\n",
        "    def __init__(self, marca, cuerdas, color):  # Aquí añadimos el argumento `color`\n",
        "        super().__init__(marca, cuerdas)  # Llama al constructor de la clase padre\n",
        "        self.color = color  # Define el nuevo atributo específico de ElectricGuitar\n",
        "\n",
        "class Bass(Guitar):\n",
        "    def __init__(self, marca, cuerdas, strap):  # Aquí añadimos el argumento `strap`\n",
        "        super().__init__(marca, cuerdas)  # Llama al constructor de la clase padre\n",
        "        self.strap = strap  # Define el nuevo atributo específico de Bass\n",
        "\n",
        "# Crear instancia de ElectricGuitar\n",
        "e = ElectricGuitar(\"Fender\", 6, \"azul eléctrico\")\n",
        "e.tocar()  # Salida: glaaaaan, glaaaaan\n",
        "print(e.marca)  # Salida: Fender\n",
        "print(e.color)  # Salida: azul eléctrico\n",
        "\n",
        "# Crear instancia de Bass\n",
        "s = Bass(\"Yamaha\", 4, \"red strap\")\n",
        "s.tocar()  # Salida: glaaaaan, glaaaaan\n",
        "print(s.marca)  # Salida: Yamaha\n",
        "print(s.strap)  # Salida: red strap\n"
      ],
      "metadata": {
        "colab": {
          "base_uri": "https://localhost:8080/"
        },
        "id": "ZKbnaPYFCbCR",
        "outputId": "e4521758-7a5d-44d5-e530-be4393e1a572"
      },
      "execution_count": null,
      "outputs": [
        {
          "output_type": "stream",
          "name": "stdout",
          "text": [
            "glaaaaan, glaaaaan\n",
            "Fender\n",
            "azul eléctrico\n",
            "glaaaaan, glaaaaan\n",
            "Yamaha\n",
            "red strap\n"
          ]
        }
      ]
    },
    {
      "cell_type": "code",
      "source": [
        "class Banda:\n",
        "    def __init__(self, instrumentos):  # Asegúrate de usar el mismo nombre (instrumentos).\n",
        "        self.instrumentos = instrumentos  # Define correctamente el atributo con el nombre esperado.\n",
        "\n",
        "    def actuar(self):  # Recorre la lista de instrumentos.\n",
        "        for instrumento in self.instrumentos:\n",
        "            instrumento.tocar()  # Llama al método tocar de cada instrumento.\n",
        "\n",
        "# Crear una lista de instrumentos (debes definir ElectricGuitar y Bass previamente).\n",
        "instrumentos = [ElectricGuitar(\"Fender\", 6, \"azul eléctrico\"),Bass(\"Yamaha\", 4, \"red strap\")]\n",
        "\n",
        "# Crear una instancia de Banda con la lista de instrumentos.\n",
        "b = Banda(instrumentos)\n",
        "\n",
        "# Llamar al método actuar para que todos los instrumentos toquen.\n",
        "b.actuar()\n"
      ],
      "metadata": {
        "colab": {
          "base_uri": "https://localhost:8080/"
        },
        "id": "aZx5FA8VDZbz",
        "outputId": "08e37aea-4399-490f-e68a-c617451aea0e"
      },
      "execution_count": null,
      "outputs": [
        {
          "output_type": "stream",
          "name": "stdout",
          "text": [
            "glaaaaan, glaaaaan\n",
            "taaaaaaaaan, taaaaaaan\n"
          ]
        }
      ]
    },
    {
      "cell_type": "code",
      "source": [
        "class Banda:\n",
        "  def __init__(self,instrumentos): #estamos preparando para recibir los intrumentos de la lista \"instrumentos\"\n",
        "    self.instrumento = instrumentos #en vez de pasar un parámetro, estamos haciendo una llamada a una lista\n",
        "###########3El gestor del grupo de instrumentos, de la lista  de instrumentos. Coordinamos todos los elementos y los llamamos aqui, lo llamamos acuar\n",
        "  def actuar(self):\n",
        "    for instrumento in self.instrumentos:\n",
        "      instrumento.tocar()\n",
        "\n",
        "b= Banda(instrumentos) #llama a la lista\n",
        "b.actuar() #acciona lo programado\n"
      ],
      "metadata": {
        "colab": {
          "base_uri": "https://localhost:8080/",
          "height": 297
        },
        "id": "OPL4TNEIDe6L",
        "outputId": "7de4dca9-237e-4ce4-9e04-f7ea74ab0db2"
      },
      "execution_count": null,
      "outputs": [
        {
          "output_type": "error",
          "ename": "AttributeError",
          "evalue": "'Banda' object has no attribute 'instrumentos'",
          "traceback": [
            "\u001b[0;31m---------------------------------------------------------------------------\u001b[0m",
            "\u001b[0;31mAttributeError\u001b[0m                            Traceback (most recent call last)",
            "\u001b[0;32m<ipython-input-16-c6345d0e796d>\u001b[0m in \u001b[0;36m<cell line: 10>\u001b[0;34m()\u001b[0m\n\u001b[1;32m      8\u001b[0m \u001b[0;34m\u001b[0m\u001b[0m\n\u001b[1;32m      9\u001b[0m \u001b[0mb\u001b[0m\u001b[0;34m=\u001b[0m \u001b[0mBanda\u001b[0m\u001b[0;34m(\u001b[0m\u001b[0minstrumentos\u001b[0m\u001b[0;34m)\u001b[0m \u001b[0;31m#llama a la lista\u001b[0m\u001b[0;34m\u001b[0m\u001b[0;34m\u001b[0m\u001b[0m\n\u001b[0;32m---> 10\u001b[0;31m \u001b[0mb\u001b[0m\u001b[0;34m.\u001b[0m\u001b[0mactuar\u001b[0m\u001b[0;34m(\u001b[0m\u001b[0;34m)\u001b[0m \u001b[0;31m#acciona lo programado\u001b[0m\u001b[0;34m\u001b[0m\u001b[0;34m\u001b[0m\u001b[0m\n\u001b[0m",
            "\u001b[0;32m<ipython-input-16-c6345d0e796d>\u001b[0m in \u001b[0;36mactuar\u001b[0;34m(self)\u001b[0m\n\u001b[1;32m      4\u001b[0m \u001b[0;31m###########3El gestor del grupo de instrumentos, de la lista  de instrumentos. Coordinamos todos los elementos y los llamamos aqui, lo llamamos acuar\u001b[0m\u001b[0;34m\u001b[0m\u001b[0;34m\u001b[0m\u001b[0m\n\u001b[1;32m      5\u001b[0m   \u001b[0;32mdef\u001b[0m \u001b[0mactuar\u001b[0m\u001b[0;34m(\u001b[0m\u001b[0mself\u001b[0m\u001b[0;34m)\u001b[0m\u001b[0;34m:\u001b[0m\u001b[0;34m\u001b[0m\u001b[0;34m\u001b[0m\u001b[0m\n\u001b[0;32m----> 6\u001b[0;31m     \u001b[0;32mfor\u001b[0m \u001b[0minstrumento\u001b[0m \u001b[0;32min\u001b[0m \u001b[0mself\u001b[0m\u001b[0;34m.\u001b[0m\u001b[0minstrumentos\u001b[0m\u001b[0;34m:\u001b[0m\u001b[0;34m\u001b[0m\u001b[0;34m\u001b[0m\u001b[0m\n\u001b[0m\u001b[1;32m      7\u001b[0m       \u001b[0minstrumento\u001b[0m\u001b[0;34m.\u001b[0m\u001b[0mtocar\u001b[0m\u001b[0;34m(\u001b[0m\u001b[0;34m)\u001b[0m\u001b[0;34m\u001b[0m\u001b[0;34m\u001b[0m\u001b[0m\n\u001b[1;32m      8\u001b[0m \u001b[0;34m\u001b[0m\u001b[0m\n",
            "\u001b[0;31mAttributeError\u001b[0m: 'Banda' object has no attribute 'instrumentos'"
          ]
        }
      ]
    },
    {
      "cell_type": "markdown",
      "source": [
        "##herencia multiple\n",
        "La herencia múltiple en Python permite que una clase hija herede de más de una clase padre. Esto es útil cuando se requiere combinar funcionalidades de múltiples clases en una sola. Sin embargo, esta técnica puede ser compleja debido a posibles conflictos en métodos o atributos comunes entre las clases padres. Python resuelve estos conflictos utilizando el Orden de Resolución de Métodos (MRO), que define el orden en el cual se buscan los métodos o atributos en las clases heredadas. Esto garantiza un comportamiento consistente y predecible.\n",
        "\n",
        "Por ejemplo, si tienes clases con métodos similares, puedes usar la función super() para llamar específicamente al método de una clase en el orden del MRO. Esto es especialmente relevante cuando usas herencia en conjunto con el Método de Diseño Diamante, donde una clase hija hereda de dos clases padres que tienen una clase común como su base.\n",
        "Más info: https://www.programiz.com/python-programming/multiple-inheritance"
      ],
      "metadata": {
        "id": "1tYbkQ9YOOIp"
      }
    },
    {
      "cell_type": "code",
      "source": [
        "\"\"\"\n",
        "class SuperClass1:\n",
        "    # features of SuperClass1\n",
        "\n",
        "class SuperClass2:\n",
        "    # features of SuperClass2\n",
        "\n",
        "class MultiDerived(SuperClass1, SuperClass2):\n",
        "    # features of SuperClass1 + SuperClass2 + MultiDerived class\n",
        "\n",
        "\"\"\""
      ],
      "metadata": {
        "colab": {
          "base_uri": "https://localhost:8080/",
          "height": 53
        },
        "id": "JBr4YiOHPLcM",
        "outputId": "30bda0b9-ef55-4deb-d0fb-4075c1822618"
      },
      "execution_count": null,
      "outputs": [
        {
          "output_type": "execute_result",
          "data": {
            "text/plain": [
              "'\\nclass SuperClass1:\\n    # features of SuperClass1\\n\\nclass SuperClass2:\\n    # features of SuperClass2\\n\\nclass MultiDerived(SuperClass1, SuperClass2):\\n    # features of SuperClass1 + SuperClass2 + MultiDerived class\\n\\n'"
            ],
            "application/vnd.google.colaboratory.intrinsic+json": {
              "type": "string"
            }
          },
          "metadata": {},
          "execution_count": 18
        }
      ]
    },
    {
      "cell_type": "code",
      "source": [
        "class Animal:\n",
        "    def speak(self):\n",
        "        print(\"El animal hace un sonido\")\n",
        "\n",
        "class Bird:\n",
        "    def fly(self):\n",
        "        print(\"El pájaro vuela\")\n",
        "\n",
        "class FlyingSquirrel(Animal, Bird):  # Herencia múltiple\n",
        "    def glide(self):\n",
        "        print(\"La ardilla voladora planea\")\n",
        "\n",
        "# Crear una instancia de FlyingSquirrel\n",
        "squirrel = FlyingSquirrel()\n",
        "squirrel.speak()  # Método heredado de Animal\n",
        "squirrel.fly()    # Método heredado de Bird\n",
        "squirrel.glide()  # Método definido en FlyingSquirrel\n",
        "\n",
        "# Verificar el MRO\n",
        "print(FlyingSquirrel.__mro__)\n"
      ],
      "metadata": {
        "colab": {
          "base_uri": "https://localhost:8080/"
        },
        "id": "R50dy0sSOScV",
        "outputId": "3612f201-07b9-4b9e-f563-4f0f5e999f73"
      },
      "execution_count": null,
      "outputs": [
        {
          "output_type": "stream",
          "name": "stdout",
          "text": [
            "El animal hace un sonido\n",
            "El pájaro vuela\n",
            "La ardilla voladora planea\n",
            "(<class '__main__.FlyingSquirrel'>, <class '__main__.Animal'>, <class '__main__.Bird'>, <class 'object'>)\n"
          ]
        }
      ]
    },
    {
      "cell_type": "code",
      "source": [
        "# Importamos el módulo time para usar la función sleep\n",
        "import time\n",
        "\n",
        "# 1. Definimos la clase Vehiculo\n",
        "class Vehiculo:\n",
        "    # 2. Definimos el constructor __init__ con los atributos del vehículo\n",
        "    def __init__(self, marca, modelo, tipo, fuel_maximo, fuel_nivel_actual):\n",
        "        \"\"\"\n",
        "        Inicializa un objeto Vehiculo con los atributos:\n",
        "        - marca: Marca del vehículo\n",
        "        - modelo: Modelo del vehículo\n",
        "        - tipo: Tipo de combustible (diesel o gasolina)\n",
        "        - fuel_maximo: Capacidad máxima de combustible\n",
        "        - fuel_nivel_actual: Cantidad actual de combustible\n",
        "        \"\"\"\n",
        "        self.marca = marca\n",
        "        self.modelo = modelo\n",
        "        self.tipo = tipo\n",
        "        self.fuel_maximo = fuel_maximo\n",
        "        self.fuel_nivel_actual = fuel_nivel_actual\n",
        "\n",
        "    # 3. Método para simular la conducción\n",
        "    def conducir(self):\n",
        "        \"\"\"\n",
        "        Simula la conducción del vehículo.\n",
        "        Cada iteración reduce el nivel de combustible en 2 unidades.\n",
        "        \"\"\"\n",
        "        for _ in range(10):  # 10 iteraciones simulando conducción\n",
        "            if self.fuel_nivel_actual < 2:  # Verifica si hay suficiente combustible\n",
        "                print(\"\\nNo tienes suficiente combustible para continuar.\")\n",
        "                break  # Detiene la simulación si no hay combustible suficiente\n",
        "            self.fuel_nivel_actual -= 2  # Reduce el nivel de combustible en 2 unidades\n",
        "            print(f\"_ Combustible restante: {self.fuel_nivel_actual}\", end='', flush=True)  # Muestra el combustible restante\n",
        "            time.sleep(0.5)  # Pausa de 0.5 segundos entre cada iteración\n",
        "        print()  # Nueva línea después de terminar el bucle\n",
        "\n",
        "    # Método para rellenar gasolina\n",
        "    def llenar_gasolina(self, cantidad):\n",
        "        \"\"\"\n",
        "        Permite rellenar gasolina al vehículo.\n",
        "        - cantidad: Litros de gasolina que se quieren añadir.\n",
        "        \"\"\"\n",
        "        nueva_cantidad = self.fuel_nivel_actual + cantidad  # Calcula la nueva cantidad de combustible\n",
        "        if nueva_cantidad > self.fuel_maximo:  # Verifica si excede la capacidad máxima\n",
        "            print(f\"No se puede llenar más de {self.fuel_maximo} litros. Has excedido el límite.\")\n",
        "        else:\n",
        "            self.fuel_nivel_actual = nueva_cantidad  # Actualiza el nivel de combustible\n",
        "            print(f\"Gasolina actual después de rellenar: {self.fuel_nivel_actual} litros.\")\n",
        "\n",
        "# 4. El programa ejecuta instanciando la clase Vehiculo\n",
        "# Creamos una instancia de Vehiculo con valores iniciales\n",
        "coche = Vehiculo(\"Toyota\", \"Corolla\", \"gasolina\", 50, 25)\n",
        "\n",
        "# Llamamos al método conducir\n",
        "coche.conducir()\n",
        "\n",
        "# Rellenamos gasolina y mostramos el resultado\n",
        "coche.llenar_gasolina(20)\n"
      ],
      "metadata": {
        "colab": {
          "base_uri": "https://localhost:8080/"
        },
        "id": "iFENj_u2QFel",
        "outputId": "7fadf64d-09e1-48c5-d0a1-9399f2e39d28"
      },
      "execution_count": null,
      "outputs": [
        {
          "output_type": "stream",
          "name": "stdout",
          "text": [
            "_ Combustible restante: 23_ Combustible restante: 21_ Combustible restante: 19_ Combustible restante: 17_ Combustible restante: 15_ Combustible restante: 13_ Combustible restante: 11_ Combustible restante: 9_ Combustible restante: 7_ Combustible restante: 5\n",
            "Gasolina actual después de rellenar: 25 litros.\n"
          ]
        }
      ]
    }
  ]
}